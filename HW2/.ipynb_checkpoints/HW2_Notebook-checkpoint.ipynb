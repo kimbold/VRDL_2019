{
 "cells": [
  {
   "cell_type": "markdown",
   "metadata": {
    "colab_type": "text",
    "id": "GfnWLBlXtyn6"
   },
   "source": [
    "# Deep Convolutional Generative Adversarial Networks with TensorFlow"
   ]
  },
  {
   "cell_type": "markdown",
   "metadata": {
    "colab_type": "text",
    "id": "A9bRlEp-MWtX"
   },
   "source": [
    "This is the report and code (Jupyter notebook) for the second homework of the course \"Selected Topics in Visual Recognition in Deep Learning\"\n",
    "\n",
    "Student: Fu-sung Kim-Benjamin Tang\n",
    "Student-ID: 0845058\n",
    "\n",
    "# Github Link for the repository: \n",
    "https://github.com/kimbold/VRDL_2019\n",
    "\n",
    "\n",
    "# Brief introduction:\n",
    "For this homework we had to download the celebrity dataset and then train a Generative Adversarial Network on it to generate 500 different 3x3 images with faces (so 9 faces per image). \n",
    "\n",
    "For this a generator, which will generate the faces and a discrimantor, which will discriminate between real images and generated ones, are required.\n",
    "The idea basically two networks are trained to work together and the generator becomes increasingly better at generating realisticly looking faces whereas the disriminator becomes better as differentiating between generated ones and real ones. By doing so, both systems will improve and end up creating quite realistic faces (hopefully). \n",
    "\n",
    "This notebook was executed on Google colab and I established a connection with my drive to store the images there. If it is not executed in google colab, the lines for that have to be removed/commented.\n",
    "\n",
    "# Methodology:\n",
    "\n",
    "**Preprocessing:**\n",
    "\n",
    "\n",
    "*   Load images with data helper\n",
    "*   Define method to get batches from image data\n",
    "*   Define inputs for network\n",
    "\n",
    "\n",
    "**Model architecture:**\n",
    "\n",
    "* Generator network with 4 convolutional tensorflow layers\n",
    "* Discriminator network with 4 convolutional tensorflow layers\n",
    "* Data input configured for image size (56x56)\n",
    "\n",
    "**Hyperparamters:**\n",
    "\n",
    "*Images:*\n",
    "*   Image height/width = 56x56\n",
    "*   Colormode = RGB\n",
    "\n",
    "*Networks:*\n",
    "* batch_size = 16\n",
    "* z_dim = 100\n",
    "* learning_rate = 0.0002\n",
    "* beta1 = 0.5\n",
    "* epochs = 20\n",
    "* alpha=0.2\n",
    "* label_smoothing = 0.9\n",
    "* leaky ReLu\n",
    "* 4 convolutional layers\n",
    "\n",
    "# Findings/Summary:\n",
    "\n",
    "Its my first time experimenting with a Generative Adversial Network and also to generate faces, so it was surprising how well it worked, since most generated faces look not too bad. But it is notable that in almost every image with the 9 faces, at least one looks really off/is poorly generated. There is definitely a lot that could be improved but I tried to increase the number of epochs just to find out, that at around 35 the performance suddenly drops heavily. \n",
    "It looked like the GAN suddenly forgot everything and started generating really bad faces. So I assume that there is a point until training it with more epochs improves performances until it degrades it. So early stopping would be a measurement to prevent this in the future. \n",
    "\n",
    "\n",
    "\n",
    "\n",
    "\n",
    "\n",
    "\n",
    "\n"
   ]
  },
  {
   "cell_type": "markdown",
   "metadata": {
    "colab_type": "text",
    "id": "zZJjXTe6tyoF"
   },
   "source": [
    "## Setup"
   ]
  },
  {
   "cell_type": "markdown",
   "metadata": {
    "colab_type": "text",
    "id": "oRDq4UrNtyoH"
   },
   "source": [
    "\n",
    "\n",
    "1.   Get helper method for dataset download from my github repository\n",
    "1.   Import required modules together with helper\n",
    "2.   Download and extract celeb dataset into data folder\n",
    "3. Define methods to get images (as matrices) and data as batches \n",
    "4. Define network input, discriminator, generator, loss function and optimization\n",
    "5. Train\n",
    "6. After model is finished with training, use it together with the output method to create 500 images with 3x3 generated images on them as required by the homework\n",
    "\n",
    "\n",
    "\n",
    "\n",
    "\n",
    "Used Libraries:\n",
    "* matplotlib\n",
    "* PIL / Pillow\n",
    "* numpy\n",
    "* requests\n",
    "* tqdm\n",
    "* TensorFlow"
   ]
  },
  {
   "cell_type": "code",
   "execution_count": 1,
   "metadata": {
    "colab": {
     "base_uri": "https://localhost:8080/",
     "height": 134
    },
    "colab_type": "code",
    "id": "LPemKr6PuEQh",
    "outputId": "acc903fb-666a-4f83-b6ba-ff460b7a4299"
   },
   "outputs": [
    {
     "name": "stdout",
     "output_type": "stream",
     "text": [
      "Cloning into 'VRDL_2019'...\n",
      "remote: Enumerating objects: 20, done.\u001b[K\n",
      "remote: Counting objects:   5% (1/20)\u001b[K\r",
      "remote: Counting objects:  10% (2/20)\u001b[K\r",
      "remote: Counting objects:  15% (3/20)\u001b[K\r",
      "remote: Counting objects:  20% (4/20)\u001b[K\r",
      "remote: Counting objects:  25% (5/20)\u001b[K\r",
      "remote: Counting objects:  30% (6/20)\u001b[K\r",
      "remote: Counting objects:  35% (7/20)\u001b[K\r",
      "remote: Counting objects:  40% (8/20)\u001b[K\r",
      "remote: Counting objects:  45% (9/20)\u001b[K\r",
      "remote: Counting objects:  50% (10/20)\u001b[K\r",
      "remote: Counting objects:  55% (11/20)\u001b[K\r",
      "remote: Counting objects:  60% (12/20)\u001b[K\r",
      "remote: Counting objects:  65% (13/20)\u001b[K\r",
      "remote: Counting objects:  70% (14/20)\u001b[K\r",
      "remote: Counting objects:  75% (15/20)\u001b[K\r",
      "remote: Counting objects:  80% (16/20)\u001b[K\r",
      "remote: Counting objects:  85% (17/20)\u001b[K\r",
      "remote: Counting objects:  90% (18/20)\u001b[K\r",
      "remote: Counting objects:  95% (19/20)\u001b[K\r",
      "remote: Counting objects: 100% (20/20)\u001b[K\r",
      "remote: Counting objects: 100% (20/20), done.\u001b[K\n",
      "remote: Compressing objects:   5% (1/18)\u001b[K\r",
      "remote: Compressing objects:  11% (2/18)\u001b[K\r",
      "remote: Compressing objects:  16% (3/18)\u001b[K\r",
      "remote: Compressing objects:  22% (4/18)\u001b[K\r",
      "remote: Compressing objects:  27% (5/18)\u001b[K\r",
      "remote: Compressing objects:  33% (6/18)\u001b[K\r",
      "remote: Compressing objects:  38% (7/18)\u001b[K\r",
      "remote: Compressing objects:  44% (8/18)\u001b[K\r",
      "remote: Compressing objects:  50% (9/18)\u001b[K\r",
      "remote: Compressing objects:  55% (10/18)\u001b[K\r",
      "remote: Compressing objects:  61% (11/18)\u001b[K\r",
      "remote: Compressing objects:  66% (12/18)\u001b[K\r",
      "remote: Compressing objects:  72% (13/18)\u001b[K\r",
      "remote: Compressing objects:  77% (14/18)\u001b[K\r",
      "remote: Compressing objects:  83% (15/18)\u001b[K\r",
      "remote: Compressing objects:  88% (16/18)\u001b[K\r",
      "remote: Compressing objects:  94% (17/18)\u001b[K\r",
      "remote: Compressing objects: 100% (18/18)\u001b[K\r",
      "remote: Compressing objects: 100% (18/18), done.\u001b[K\n",
      "Receiving objects:   0% (1/3885)   \r",
      "Receiving objects:   1% (39/3885)   \r",
      "Receiving objects:   2% (78/3885)   \r",
      "Receiving objects:   3% (117/3885)   \r",
      "Receiving objects:   4% (156/3885)   \r",
      "Receiving objects:   5% (195/3885)   \r",
      "Receiving objects:   6% (234/3885)   \r",
      "Receiving objects:   7% (272/3885)   \r",
      "Receiving objects:   8% (311/3885)   \r",
      "Receiving objects:   9% (350/3885)   \r",
      "Receiving objects:  10% (389/3885)   \r",
      "Receiving objects:  11% (428/3885)   \r",
      "Receiving objects:  12% (467/3885)   \r",
      "Receiving objects:  13% (506/3885)   \r",
      "Receiving objects:  14% (544/3885)   \r",
      "Receiving objects:  15% (583/3885)   \r",
      "Receiving objects:  16% (622/3885)   \r",
      "Receiving objects:  17% (661/3885)   \r",
      "Receiving objects:  18% (700/3885)   \r",
      "Receiving objects:  19% (739/3885)   \r",
      "Receiving objects:  20% (777/3885)   \r",
      "Receiving objects:  21% (816/3885)   \r",
      "Receiving objects:  22% (855/3885)   \r",
      "Receiving objects:  23% (894/3885)   \r",
      "Receiving objects:  24% (933/3885)   \r",
      "Receiving objects:  25% (972/3885)   \r",
      "Receiving objects:  26% (1011/3885)   \r",
      "Receiving objects:  27% (1049/3885)   \r",
      "Receiving objects:  28% (1088/3885)   \r",
      "Receiving objects:  29% (1127/3885)   \r",
      "Receiving objects:  30% (1166/3885)   \r",
      "Receiving objects:  31% (1205/3885)   \r",
      "Receiving objects:  32% (1244/3885)   \r",
      "Receiving objects:  33% (1283/3885)   \r",
      "Receiving objects:  34% (1321/3885)   \r",
      "Receiving objects:  35% (1360/3885)   \r",
      "Receiving objects:  36% (1399/3885)   \r",
      "Receiving objects:  37% (1438/3885)   \r",
      "Receiving objects:  38% (1477/3885)   \r",
      "Receiving objects:  39% (1516/3885)   \r",
      "Receiving objects:  40% (1554/3885)   \r",
      "Receiving objects:  41% (1593/3885)   \r",
      "Receiving objects:  42% (1632/3885)   \r",
      "Receiving objects:  43% (1671/3885)   \r",
      "Receiving objects:  44% (1710/3885)   \r",
      "Receiving objects:  45% (1749/3885)   \r",
      "Receiving objects:  46% (1788/3885)   \r",
      "Receiving objects:  47% (1826/3885)   \r",
      "Receiving objects:  48% (1865/3885)   \r",
      "Receiving objects:  49% (1904/3885)   \r",
      "Receiving objects:  50% (1943/3885)   \r",
      "Receiving objects:  51% (1982/3885)   \r",
      "Receiving objects:  52% (2021/3885)   \r",
      "Receiving objects:  53% (2060/3885)   \r",
      "Receiving objects:  54% (2098/3885)   \r",
      "Receiving objects:  55% (2137/3885)   \r",
      "Receiving objects:  56% (2176/3885), 29.17 MiB | 58.33 MiB/s   \r",
      "Receiving objects:  57% (2215/3885), 29.17 MiB | 58.33 MiB/s   \r",
      "Receiving objects:  58% (2254/3885), 29.17 MiB | 58.33 MiB/s   \r",
      "Receiving objects:  59% (2293/3885), 29.17 MiB | 58.33 MiB/s   \r",
      "Receiving objects:  60% (2331/3885), 29.17 MiB | 58.33 MiB/s   \r",
      "Receiving objects:  61% (2370/3885), 29.17 MiB | 58.33 MiB/s   \r",
      "Receiving objects:  62% (2409/3885), 29.17 MiB | 58.33 MiB/s   \r",
      "Receiving objects:  63% (2448/3885), 29.17 MiB | 58.33 MiB/s   \r",
      "Receiving objects:  64% (2487/3885), 29.17 MiB | 58.33 MiB/s   \r",
      "Receiving objects:  65% (2526/3885), 29.17 MiB | 58.33 MiB/s   \r",
      "Receiving objects:  66% (2565/3885), 29.17 MiB | 58.33 MiB/s   \r",
      "Receiving objects:  67% (2603/3885), 29.17 MiB | 58.33 MiB/s   \r",
      "Receiving objects:  68% (2642/3885), 29.17 MiB | 58.33 MiB/s   \r",
      "Receiving objects:  69% (2681/3885), 29.17 MiB | 58.33 MiB/s   \r",
      "Receiving objects:  70% (2720/3885), 29.17 MiB | 58.33 MiB/s   \r",
      "Receiving objects:  71% (2759/3885), 29.17 MiB | 58.33 MiB/s   \r",
      "Receiving objects:  72% (2798/3885), 29.17 MiB | 58.33 MiB/s   \r",
      "Receiving objects:  73% (2837/3885), 29.17 MiB | 58.33 MiB/s   \r",
      "Receiving objects:  74% (2875/3885), 29.17 MiB | 58.33 MiB/s   \r",
      "Receiving objects:  75% (2914/3885), 29.17 MiB | 58.33 MiB/s   \r",
      "Receiving objects:  76% (2953/3885), 29.17 MiB | 58.33 MiB/s   \r",
      "Receiving objects:  77% (2992/3885), 29.17 MiB | 58.33 MiB/s   \r",
      "Receiving objects:  78% (3031/3885), 29.17 MiB | 58.33 MiB/s   \r",
      "Receiving objects:  79% (3070/3885), 29.17 MiB | 58.33 MiB/s   \r",
      "Receiving objects:  80% (3108/3885), 29.17 MiB | 58.33 MiB/s   \r",
      "Receiving objects:  81% (3147/3885), 29.17 MiB | 58.33 MiB/s   \r",
      "Receiving objects:  82% (3186/3885), 29.17 MiB | 58.33 MiB/s   \r",
      "Receiving objects:  83% (3225/3885), 29.17 MiB | 58.33 MiB/s   \r",
      "Receiving objects:  84% (3264/3885), 29.17 MiB | 58.33 MiB/s   \r",
      "Receiving objects:  85% (3303/3885), 29.17 MiB | 58.33 MiB/s   \r",
      "Receiving objects:  86% (3342/3885), 29.17 MiB | 58.33 MiB/s   \r",
      "Receiving objects:  87% (3380/3885), 29.17 MiB | 58.33 MiB/s   \r",
      "Receiving objects:  88% (3419/3885), 29.17 MiB | 58.33 MiB/s   \r",
      "Receiving objects:  89% (3458/3885), 29.17 MiB | 58.33 MiB/s   \r",
      "Receiving objects:  90% (3497/3885), 29.17 MiB | 58.33 MiB/s   \r",
      "Receiving objects:  91% (3536/3885), 29.17 MiB | 58.33 MiB/s   \r",
      "Receiving objects:  92% (3575/3885), 29.17 MiB | 58.33 MiB/s   \r",
      "Receiving objects:  93% (3614/3885), 29.17 MiB | 58.33 MiB/s   \r",
      "Receiving objects:  94% (3652/3885), 29.17 MiB | 58.33 MiB/s   \r",
      "Receiving objects:  95% (3691/3885), 29.17 MiB | 58.33 MiB/s   \r",
      "Receiving objects:  96% (3730/3885), 29.17 MiB | 58.33 MiB/s   \r",
      "Receiving objects:  97% (3769/3885), 29.17 MiB | 58.33 MiB/s   \r",
      "Receiving objects:  98% (3808/3885), 29.17 MiB | 58.33 MiB/s   \r",
      "Receiving objects:  99% (3847/3885), 29.17 MiB | 58.33 MiB/s   \r",
      "remote: Total 3885 (delta 1), reused 16 (delta 0), pack-reused 3865\u001b[K\n",
      "Receiving objects: 100% (3885/3885), 29.17 MiB | 58.33 MiB/s   \r",
      "Receiving objects: 100% (3885/3885), 52.45 MiB | 56.65 MiB/s, done.\n",
      "Resolving deltas:   0% (0/1)   \r",
      "Resolving deltas: 100% (1/1)   \r",
      "Resolving deltas: 100% (1/1), done.\n"
     ]
    }
   ],
   "source": [
    "!git clone https://github.com/kimbold/VRDL_2019"
   ]
  },
  {
   "cell_type": "code",
   "execution_count": 2,
   "metadata": {
    "colab": {
     "base_uri": "https://localhost:8080/",
     "height": 84
    },
    "colab_type": "code",
    "id": "OH1YtgZ3tyoM",
    "outputId": "73a9678d-d8d3-49ab-8146-2b56f15dcd3c",
    "scrolled": true
   },
   "outputs": [
    {
     "name": "stderr",
     "output_type": "stream",
     "text": [
      "Downloading celeba: 1.44GB [00:18, 77.0MB/s]                            \n"
     ]
    },
    {
     "name": "stdout",
     "output_type": "stream",
     "text": [
      "Extracting celeba...\n",
      "(9, 56, 56, 3)\n"
     ]
    },
    {
     "data": {
      "text/plain": [
       "<Figure size 720x720 with 0 Axes>"
      ]
     },
     "metadata": {
      "tags": []
     },
     "output_type": "display_data"
    }
   ],
   "source": [
    "import os\n",
    "import VRDL_2019.HW2.helper as helper\n",
    "import matplotlib.pyplot as plt\n",
    "from glob import glob\n",
    "from matplotlib import pyplot\n",
    "from PIL import Image\n",
    "import numpy as np\n",
    "\n",
    "data_dir = './data'\n",
    "helper.download_extract(data_dir)\n",
    "\n",
    "show_n_images = 9\n",
    "image_size = 56\n",
    "plt.figure(figsize=(10, 10))\n",
    "images = helper.get_batch(glob(os.path.join(data_dir, 'img_align_celeba/*.jpg'))[:show_n_images], image_size, image_size, 'RGB')\n",
    "#plt.imshow(helper.images_square_grid(images))\n",
    "#plt.show()\n",
    "print(images.shape)"
   ]
  },
  {
   "cell_type": "markdown",
   "metadata": {
    "colab_type": "text",
    "id": "yBOZKLZutyoY"
   },
   "source": [
    "## The CelebA Dataset"
   ]
  },
  {
   "cell_type": "code",
   "execution_count": 3,
   "metadata": {
    "colab": {
     "base_uri": "https://localhost:8080/",
     "height": 300
    },
    "colab_type": "code",
    "id": "IbYHWtNItyob",
    "outputId": "0fe10c57-4de8-4b15-e5f6-55e6316d4a7d"
   },
   "outputs": [
    {
     "name": "stdout",
     "output_type": "stream",
     "text": [
      "shape: (202599, 56, 56, 3)\n"
     ]
    },
    {
     "data": {
      "text/plain": [
       "<matplotlib.image.AxesImage at 0x7fac4a6146d8>"
      ]
     },
     "execution_count": 3,
     "metadata": {
      "tags": []
     },
     "output_type": "execute_result"
    },
    {
     "data": {
      "image/png": "[encoded data removed]",
      "text/plain": [
       "<Figure size 432x288 with 1 Axes>"
      ]
     },
     "metadata": {
      "tags": []
     },
     "output_type": "display_data"
    }
   ],
   "source": [
    "%matplotlib inline\n",
    "# Image configuration with height, width and storage location\n",
    "IMAGE_HEIGHT = 56\n",
    "IMAGE_WIDTH = 56\n",
    "data_files = glob(os.path.join(data_dir, 'img_align_celeba/*.jpg'))\n",
    "shape = len(data_files), IMAGE_WIDTH, IMAGE_HEIGHT, 3\n",
    "\n",
    "print(\"shape:\", shape)\n",
    "\n",
    "def get_image(image_path, width, height, mode):\n",
    "    \"\"\"\n",
    "    Read image from image_path\n",
    "    \"\"\"\n",
    "    image = Image.open(image_path)\n",
    "\n",
    "    if image.size != (width, height):\n",
    "        # Remove most pixels that aren't part of a face\n",
    "        face_width = face_height = 108\n",
    "        j = (image.size[0] - face_width) // 2\n",
    "        i = (image.size[1] - face_height) // 2\n",
    "        image = image.crop([j, i, j + face_width, i + face_height])\n",
    "        image = image.resize([width, height], Image.BILINEAR)\n",
    "\n",
    "    return np.array(image.convert(mode))\n",
    "\n",
    "def get_batch(image_files, width, height, mode='RGB'):\n",
    "    \"\"\"\n",
    "    Get a single image\n",
    "    \"\"\"\n",
    "    data_batch = np.array([get_image(sample_file, width, height, mode) for sample_file in image_files]).astype(np.float32)\n",
    "\n",
    "    # Make sure the images are in 4 dimensions\n",
    "    if len(data_batch.shape) < 4:\n",
    "        data_batch = data_batch.reshape(data_batch.shape + (1,))\n",
    "\n",
    "    return data_batch\n",
    "\n",
    "def get_batches(batch_size):\n",
    "  #print(\"Hello\")\n",
    "  IMAGE_MAX_VALUE = 255\n",
    "  current_index = 0\n",
    "\n",
    "  while current_index + batch_size <= shape[0]:\n",
    "        #print(shape[0])\n",
    "        data_batch = get_batch(data_files[current_index:current_index + batch_size],*shape[1:3])\n",
    "\n",
    "        current_index += batch_size\n",
    "\n",
    "        yield data_batch / IMAGE_MAX_VALUE - 0.5\n",
    "        \n",
    "\n",
    "#test_images = get_batch(glob(os.path.join(data_dir, 'celebA/*.jpg'))[:10], 56, 56)\n",
    "pyplot.imshow(get_image(\"data/img_align_celeba/006917.jpg\", IMAGE_WIDTH, IMAGE_HEIGHT, 'RGB'))"
   ]
  },
  {
   "cell_type": "code",
   "execution_count": 4,
   "metadata": {
    "colab": {
     "base_uri": "https://localhost:8080/",
     "height": 50
    },
    "colab_type": "code",
    "id": "98j2L47ZwxNt",
    "outputId": "a716364a-1aea-440a-fc69-dac1269807f7"
   },
   "outputs": [
    {
     "name": "stdout",
     "output_type": "stream",
     "text": [
      "(9, 56, 56, 3)\n"
     ]
    },
    {
     "data": {
      "text/plain": [
       "<Figure size 720x720 with 0 Axes>"
      ]
     },
     "metadata": {
      "tags": []
     },
     "output_type": "display_data"
    }
   ],
   "source": [
    "# Now get all images with the define properties\n",
    "show_n_images = 9\n",
    "image_size = 56\n",
    "plt.figure(figsize=(10, 10))\n",
    "images = helper.get_batch(glob(os.path.join(data_dir, 'img_align_celeba/*.jpg'))[:show_n_images], image_size, image_size, 'RGB')\n",
    "#plt.imshow(helper.images_square_grid(images))\n",
    "#plt.show()\n",
    "print(images.shape)"
   ]
  },
  {
   "cell_type": "markdown",
   "metadata": {
    "colab_type": "text",
    "id": "vp6urCqetyoj"
   },
   "source": [
    "## Defining network input"
   ]
  },
  {
   "cell_type": "markdown",
   "metadata": {
    "colab_type": "text",
    "id": "Kd681xYNtyol"
   },
   "source": [
    "Before defining the two networks, the inputs must be defined. TensorFlow Placeholders for the real and fake inputs and for the learning rate are going to be defined."
   ]
  },
  {
   "cell_type": "code",
   "execution_count": null,
   "metadata": {
    "colab": {
     "base_uri": "https://localhost:8080/",
     "height": 62
    },
    "colab_type": "code",
    "id": "oCfVgn-wtyon",
    "outputId": "cd0a5359-3f55-4821-e964-38704b7c4c9b"
   },
   "outputs": [],
   "source": [
    "import tensorflow as tf\n",
    "\n",
    "def model_inputs(image_width, image_height, image_channels, z_dim):\n",
    "    \"\"\"\n",
    "    Create the model inputs\n",
    "    \"\"\"\n",
    "    inputs_real = tf.placeholder(tf.float32, shape=(None, image_width, image_height, image_channels), name='input_real') \n",
    "    inputs_z = tf.placeholder(tf.float32, (None, z_dim), name='input_z')\n",
    "    learning_rate = tf.placeholder(tf.float32, name='learning_rate')\n",
    "    \n",
    "    return inputs_real, inputs_z, learning_rate"
   ]
  },
  {
   "cell_type": "markdown",
   "metadata": {
    "colab_type": "text",
    "id": "91GxRwQGtyot"
   },
   "source": [
    "## The discriminator network"
   ]
  },
  {
   "cell_type": "markdown",
   "metadata": {
    "colab_type": "text",
    "id": "p3jGCMpytyov"
   },
   "source": [
    "The discriminator distinguishes between real and generated images. In essence it is a convolutional neural network for image classification. The discriminator network consists of convolutional layers and for every layer of the network, a convolution, a batch normalization to make the network faster and more accurate and finally a Leaky ReLu are going to be performed."
   ]
  },
  {
   "cell_type": "code",
   "execution_count": 0,
   "metadata": {
    "colab": {},
    "colab_type": "code",
    "id": "GhrAhdGttyox"
   },
   "outputs": [],
   "source": [
    "def discriminator(images, reuse=False):\n",
    "    \"\"\"\n",
    "    Create the discriminator network\n",
    "    \"\"\"\n",
    "    alpha = 0.2\n",
    "    \n",
    "    with tf.variable_scope('discriminator', reuse=reuse):\n",
    "        # using 4 layer network as in DCGAN Paper\n",
    "        \n",
    "        # Conv 1\n",
    "        conv1 = tf.layers.conv2d(images, 64, 5, 2, 'SAME')\n",
    "        lrelu1 = tf.maximum(alpha * conv1, conv1)\n",
    "        \n",
    "        # Conv 2\n",
    "        conv2 = tf.layers.conv2d(lrelu1, 128, 5, 2, 'SAME')\n",
    "        batch_norm2 = tf.layers.batch_normalization(conv2, training=True)\n",
    "        lrelu2 = tf.maximum(alpha * batch_norm2, batch_norm2)\n",
    "        \n",
    "        # Conv 3\n",
    "        conv3 = tf.layers.conv2d(lrelu2, 256, 5, 1, 'SAME')\n",
    "        batch_norm3 = tf.layers.batch_normalization(conv3, training=True)\n",
    "        lrelu3 = tf.maximum(alpha * batch_norm3, batch_norm3)\n",
    "\n",
    "        # Conv 4\n",
    "        conv4 = tf.layers.conv2d(lrelu3, 512, 5, 1, 'SAME')\n",
    "        batch_norm4 = tf.layers.batch_normalization(conv4, training=True)\n",
    "        lrelu4 = tf.maximum(alpha * batch_norm4, batch_norm4)\n",
    "       \n",
    "        # Flatten\n",
    "        flat = tf.reshape(lrelu4, (-1, 4*4*256))\n",
    "        \n",
    "        # Logits\n",
    "        logits = tf.layers.dense(flat, 1)\n",
    "        \n",
    "        # Output\n",
    "        out = tf.sigmoid(logits)\n",
    "        \n",
    "        return out, logits"
   ]
  },
  {
   "cell_type": "markdown",
   "metadata": {
    "colab_type": "text",
    "id": "e36ZTeSntyo3"
   },
   "source": [
    "## The generator network"
   ]
  },
  {
   "cell_type": "markdown",
   "metadata": {
    "colab_type": "text",
    "id": "gBxVS57Dtyo5"
   },
   "source": [
    "The generator goes the other way: It is the artist who is trying to fool the discriminator. This network consists of four deconvolutional layers. In here, we are doing the same as in the discriminator, just in the other direction. First, we take our input, called Z, and feed it into our first deconvolutional layer. Each deconvolutional layer performs a deconvolution and then performs batch normalization and a leaky ReLu as well. Then, we return the tanh activation function."
   ]
  },
  {
   "cell_type": "code",
   "execution_count": 0,
   "metadata": {
    "colab": {},
    "colab_type": "code",
    "id": "2pqhoD4Jtyo7"
   },
   "outputs": [],
   "source": [
    "def generator(z, out_channel_dim, is_train=True):\n",
    "    \"\"\"\n",
    "    Create the generator network\n",
    "    \"\"\"\n",
    "    alpha = 0.2\n",
    "    \n",
    "    with tf.variable_scope('generator', reuse=False if is_train==True else True):\n",
    "        # First fully connected layer\n",
    "        x_1 = tf.layers.dense(z, 2*2*512)\n",
    "        \n",
    "        # Reshape it to start the convolutional stack\n",
    "        deconv_2 = tf.reshape(x_1, (-1, 2, 2, 512))\n",
    "        batch_norm2 = tf.layers.batch_normalization(deconv_2, training=is_train)\n",
    "        lrelu2 = tf.maximum(alpha * batch_norm2, batch_norm2)\n",
    "        \n",
    "        # Deconv 1\n",
    "        deconv3 = tf.layers.conv2d_transpose(lrelu2, 256, 5, 2, padding='VALID')\n",
    "        batch_norm3 = tf.layers.batch_normalization(deconv3, training=is_train)\n",
    "        lrelu3 = tf.maximum(alpha * batch_norm3, batch_norm3)\n",
    "        \n",
    "        \n",
    "        # Deconv 2\n",
    "        deconv4 = tf.layers.conv2d_transpose(lrelu3, 128, 5, 2, padding='SAME')\n",
    "        batch_norm4 = tf.layers.batch_normalization(deconv4, training=is_train)\n",
    "        lrelu4 = tf.maximum(alpha * batch_norm4, batch_norm4)\n",
    "\n",
    "        # Deconv 3\n",
    "        deconv5 = tf.layers.conv2d_transpose(lrelu4, 64, 5, 2, padding='SAME')\n",
    "        batch_norm5 = tf.layers.batch_normalization(deconv5, training=is_train)\n",
    "        lrelu5 = tf.maximum(alpha * batch_norm5, batch_norm5)\n",
    "\n",
    "        \n",
    "        # Output layer\n",
    "        logits = tf.layers.conv2d_transpose(lrelu5, out_channel_dim, 5, 2, padding='SAME')\n",
    "        \n",
    "        out = tf.tanh(logits)\n",
    "        \n",
    "        return out"
   ]
  },
  {
   "cell_type": "markdown",
   "metadata": {
    "colab_type": "text",
    "id": "tTzsNZVqtypB"
   },
   "source": [
    "## Loss Functions"
   ]
  },
  {
   "cell_type": "markdown",
   "metadata": {
    "colab_type": "text",
    "id": "qNKLU_RctypG"
   },
   "source": [
    "Rather than just having a single loss function, we need to define three: The loss of the generator, the loss of the discriminator when using real images and the loss of the discriminator when using fake images. The sum of the fake image and real image loss is the overall discriminator loss."
   ]
  },
  {
   "cell_type": "code",
   "execution_count": 0,
   "metadata": {
    "colab": {},
    "colab_type": "code",
    "id": "QR6cbYKwtypJ"
   },
   "outputs": [],
   "source": [
    "def model_loss(input_real, input_z, out_channel_dim):\n",
    "    \"\"\"\n",
    "    Get the loss for the discriminator and generator\n",
    "    \"\"\"\n",
    "    \n",
    "    label_smoothing = 0.9\n",
    "    \n",
    "    g_model = generator(input_z, out_channel_dim)\n",
    "    d_model_real, d_logits_real = discriminator(input_real)\n",
    "    d_model_fake, d_logits_fake = discriminator(g_model, reuse=True)\n",
    "    \n",
    "    d_loss_real = tf.reduce_mean(\n",
    "        tf.nn.sigmoid_cross_entropy_with_logits(logits=d_logits_real,\n",
    "                                                labels=tf.ones_like(d_model_real) * label_smoothing))\n",
    "    d_loss_fake = tf.reduce_mean(\n",
    "        tf.nn.sigmoid_cross_entropy_with_logits(logits=d_logits_fake,\n",
    "                                                labels=tf.zeros_like(d_model_fake)))\n",
    "    \n",
    "    d_loss = d_loss_real + d_loss_fake\n",
    "                                                  \n",
    "    g_loss = tf.reduce_mean(\n",
    "        tf.nn.sigmoid_cross_entropy_with_logits(logits=d_logits_fake,\n",
    "                                                labels=tf.ones_like(d_model_fake) * label_smoothing))\n",
    "    \n",
    "    \n",
    "    return d_loss, g_loss"
   ]
  },
  {
   "cell_type": "markdown",
   "metadata": {
    "colab_type": "text",
    "id": "yLko4KjhtypR"
   },
   "source": [
    "## Optimization"
   ]
  },
  {
   "cell_type": "markdown",
   "metadata": {
    "colab_type": "text",
    "id": "QmqexxYStypT"
   },
   "source": [
    "Rather than just having a single loss function, we need to define three: The loss of the generator, the loss of the discriminator when using real images and the loss of the discriminator when using fake images. The sum of the fake image and real image loss is the overall discriminator loss."
   ]
  },
  {
   "cell_type": "code",
   "execution_count": 0,
   "metadata": {
    "colab": {},
    "colab_type": "code",
    "id": "TMg9PV5ItypV"
   },
   "outputs": [],
   "source": [
    "def model_opt(d_loss, g_loss, learning_rate, beta1):\n",
    "    \"\"\"\n",
    "    Get optimization operations\n",
    "    \"\"\"\n",
    "    t_vars = tf.trainable_variables()\n",
    "    d_vars = [var for var in t_vars if var.name.startswith('discriminator')]\n",
    "    g_vars = [var for var in t_vars if var.name.startswith('generator')]\n",
    "\n",
    "    # Optimize\n",
    "    with tf.control_dependencies(tf.get_collection(tf.GraphKeys.UPDATE_OPS)): \n",
    "        d_train_opt = tf.train.AdamOptimizer(learning_rate, beta1=beta1).minimize(d_loss, var_list=d_vars)\n",
    "        g_train_opt = tf.train.AdamOptimizer(learning_rate, beta1=beta1).minimize(g_loss, var_list=g_vars)\n",
    "\n",
    "    return d_train_opt, g_train_opt"
   ]
  },
  {
   "cell_type": "markdown",
   "metadata": {
    "colab_type": "text",
    "id": "jJZ8URrgtypb"
   },
   "source": [
    "## Visualization"
   ]
  },
  {
   "cell_type": "markdown",
   "metadata": {
    "colab_type": "text",
    "id": "sC8ZAwvQtype"
   },
   "source": [
    "\n",
    "In the last step of our preparation, we are writing a small helper function to display the generated images in the notebook for us, using the matplotlib library."
   ]
  },
  {
   "cell_type": "code",
   "execution_count": 0,
   "metadata": {
    "colab": {},
    "colab_type": "code",
    "id": "PcwHsoBPtyph"
   },
   "outputs": [],
   "source": [
    "def output_fig(images_array, file_name=\"./results\"):\n",
    "  pyplot.figure(figsize=(6,6), dpi=100)\n",
    "  pyplot.imshow(helper.images_square_grid(images_array))\n",
    "  pyplot.axis(\"off\")\n",
    "  pyplot.savefig(file_name+\".png\", bbox_inches='tight', pad_inches=0)\n",
    "\n",
    "def show_generator_output(sess, n_images, input_z, out_channel_dim, save_option, id):\n",
    "    \"\"\"\n",
    "    Show example output for the generator\n",
    "    \"\"\"\n",
    "    z_dim = input_z.get_shape().as_list()[-1]\n",
    "  \n",
    "    example_z = np.random.uniform(-1, 1, size=[n_images, z_dim])\n",
    "\n",
    "    samples = sess.run(\n",
    "        generator(input_z, out_channel_dim, False),\n",
    "        feed_dict={input_z: example_z})\n",
    "\n",
    "    if(save_option==True):\n",
    "      file_name=\"{:03d}\".format(id)\n",
    "      output_fig(samples, file_name=file_name)\n",
    "      uploaded = drive.CreateFile({'title': file_name+\".png\"})\n",
    "      uploaded.SetContentFile(file_name+\".png\")\n",
    "      uploaded.Upload()\n",
    "      print('Uploaded file with ID {}'.format(uploaded.get('id')))\n",
    "    else:\n",
    "      pyplot.imshow(helper.images_square_grid(samples))\n",
    "      pyplot.show()"
   ]
  },
  {
   "cell_type": "markdown",
   "metadata": {
    "colab_type": "text",
    "id": "u05tWhRktypq"
   },
   "source": [
    "## Training"
   ]
  },
  {
   "cell_type": "markdown",
   "metadata": {
    "colab_type": "text",
    "id": "NveoOn8wtypv"
   },
   "source": [
    "Now by using the inputs, losses and optimizers as defined before, a TensorFlow session will be called and executed batch by batch. Every 400 steps the current progress will be printed out by showing the generated image and loss."
   ]
  },
  {
   "cell_type": "code",
   "execution_count": 0,
   "metadata": {
    "colab": {},
    "colab_type": "code",
    "id": "XuyRRjx4typz"
   },
   "outputs": [],
   "source": [
    "def train(epoch_count, batch_size, z_dim, learning_rate, beta1, get_batches, data_shape):\n",
    "    \"\"\"\n",
    "    Train the GAN\n",
    "    \"\"\"\n",
    "    input_real, input_z, _ = model_inputs(data_shape[1], data_shape[2], data_shape[3], z_dim)\n",
    "    d_loss, g_loss = model_loss(input_real, input_z, data_shape[3])\n",
    "    d_opt, g_opt = model_opt(d_loss, g_loss, learning_rate, beta1)\n",
    "    \n",
    "    steps = 0\n",
    "    \n",
    "    with tf.Session() as sess:\n",
    "        sess.run(tf.global_variables_initializer())\n",
    "        for epoch_i in range(epoch_count):\n",
    "            print(\"Epoch:\", epoch_i, \"/\", epoch_count)\n",
    "            for batch_images in get_batches(batch_size):\n",
    "                \n",
    "                # values range from -0.5 to 0.5, therefore scale to range -1, 1\n",
    "                batch_images = batch_images * 2\n",
    "                steps += 1\n",
    "            \n",
    "                batch_z = np.random.uniform(-1, 1, size=(batch_size, z_dim))\n",
    "                \n",
    "                _ = sess.run(d_opt, feed_dict={input_real: batch_images, input_z: batch_z})\n",
    "                _ = sess.run(g_opt, feed_dict={input_real: batch_images, input_z: batch_z})\n",
    "                \n",
    "                if steps % 400 == 0:\n",
    "                    train_loss_d = d_loss.eval({input_z: batch_z, input_real: batch_images})\n",
    "                    train_loss_g = g_loss.eval({input_z: batch_z})\n",
    "\n",
    "                    print(\"Epoch {}/{}...\".format(epoch_i+1, epochs),\n",
    "                          \"Discriminator Loss: {:.4f}...\".format(train_loss_d),\n",
    "                          \"Generator Loss: {:.4f}\".format(train_loss_g))\n",
    "                   \n",
    "                    _ = show_generator_output(sess, 9, input_z, data_shape[3], False, 0)\n",
    "\n",
    "        for x in range(500):\n",
    "           _ = show_generator_output(sess, 9, input_z, data_shape[3], True, x)     "
   ]
  },
  {
   "cell_type": "code",
   "execution_count": null,
   "metadata": {
    "colab": {
     "base_uri": "https://localhost:8080/",
     "height": 1000
    },
    "colab_type": "code",
    "id": "Uh4WKU9qtyp8",
    "outputId": "87d22ed8-be6f-4f08-b045-6e3e8ed39b06"
   },
   "outputs": [],
   "source": [
    "batch_size = 16\n",
    "z_dim = 100\n",
    "learning_rate = 0.0002\n",
    "beta1 = 0.5\n",
    "epochs = 20\n",
    "\n",
    "# Install the PyDrive wrapper & import libraries.\n",
    "# This only needs to be done once in a notebook.\n",
    "!pip install -U -q PyDrive\n",
    "from pydrive.auth import GoogleAuth\n",
    "from pydrive.drive import GoogleDrive\n",
    "from google.colab import auth\n",
    "from oauth2client.client import GoogleCredentials\n",
    "\n",
    "# Authenticate and create the PyDrive client.\n",
    "# This only needs to be done once in a notebook.\n",
    "auth.authenticate_user()\n",
    "gauth = GoogleAuth()\n",
    "gauth.credentials = GoogleCredentials.get_application_default()\n",
    "drive = GoogleDrive(gauth)\n",
    "\n",
    "#directory=\"GeneratedImages\"\n",
    "#if not os.path.exists(directory):\n",
    "#    os.makedirs(directory)\n",
    "\n",
    "with tf.Graph().as_default():\n",
    "    train(epochs, batch_size, z_dim, learning_rate, beta1, get_batches, shape)"
   ]
  },
  {
   "cell_type": "code",
   "execution_count": 0,
   "metadata": {
    "colab": {},
    "colab_type": "code",
    "id": "584ViOxAJ9U1"
   },
   "outputs": [],
   "source": []
  }
 ],
 "metadata": {
  "accelerator": "GPU",
  "colab": {
   "collapsed_sections": [],
   "name": "DCGANs with Tensorflow.ipynb",
   "provenance": [],
   "toc_visible": true
  },
  "kernelspec": {
   "display_name": "Python 3",
   "language": "python",
   "name": "python3"
  },
  "language_info": {
   "codemirror_mode": {
    "name": "ipython",
    "version": 3
   },
   "file_extension": ".py",
   "mimetype": "text/x-python",
   "name": "python",
   "nbconvert_exporter": "python",
   "pygments_lexer": "ipython3",
   "version": "3.7.2"
  }
 },
 "nbformat": 4,
 "nbformat_minor": 1
}
